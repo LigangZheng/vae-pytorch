{
 "cells": [
  {
   "cell_type": "code",
   "execution_count": 1,
   "metadata": {
    "collapsed": true
   },
   "outputs": [],
   "source": [
    "import os\n",
    "import numpy as np\n",
    "import seaborn as sns\n",
    "import matplotlib.pyplot as plt\n",
    "\n",
    "import torch\n",
    "import torch.nn as nn\n",
    "import torch.nn.functional as F\n",
    "import torch.optim as optim\n",
    "from torchvision import datasets, transforms\n",
    "from torch.autograd import Variable\n",
    "\n",
    "# plotting params\n",
    "%matplotlib inline\n",
    "plt.rcParams['font.size'] = 10\n",
    "plt.rcParams['axes.labelsize'] = 10\n",
    "plt.rcParams['axes.titlesize'] = 10\n",
    "plt.rcParams['xtick.labelsize'] = 8\n",
    "plt.rcParams['ytick.labelsize'] = 8\n",
    "plt.rcParams['legend.fontsize'] = 10\n",
    "plt.rcParams['figure.titlesize'] = 12\n",
    "plt.rcParams['figure.figsize'] = (8.0, 8.0)"
   ]
  },
  {
   "cell_type": "code",
   "execution_count": 2,
   "metadata": {},
   "outputs": [
    {
     "data": {
      "text/plain": [
       "<torch._C.Generator at 0x10ac5def0>"
      ]
     },
     "execution_count": 2,
     "metadata": {},
     "output_type": "execute_result"
    }
   ],
   "source": [
    "torch.manual_seed(423212)"
   ]
  },
  {
   "cell_type": "markdown",
   "metadata": {},
   "source": [
    "## Loading MNIST"
   ]
  },
  {
   "cell_type": "code",
   "execution_count": 3,
   "metadata": {
    "collapsed": true
   },
   "outputs": [],
   "source": [
    "train_loader = torch.utils.data.DataLoader(\n",
    "    datasets.MNIST('./data', train=True, download=True,\n",
    "                   transform=transforms.Compose([\n",
    "                       transforms.ToTensor(),\n",
    "                       # transforms.Normalize((0.1307,), (0.3081,))\n",
    "                       transforms.Normalize((0.5, 0.5, 0.5), (0.5, 0.5, 0.5)),\n",
    "                   ])),\n",
    "    batch_size=128, shuffle=True)\n",
    "\n",
    "test_loader = torch.utils.data.DataLoader(\n",
    "    datasets.MNIST('./data', train=False, download=True,\n",
    "                   transform=transforms.Compose([\n",
    "                       transforms.ToTensor(),\n",
    "                       # transforms.Normalize((0.1307,), (0.3081,))\n",
    "                       transforms.Normalize((0.5, 0.5, 0.5), (0.5, 0.5, 0.5)),\n",
    "                   ])),\n",
    "                    batch_size=10, shuffle=False)"
   ]
  },
  {
   "cell_type": "markdown",
   "metadata": {},
   "source": [
    "## Helper Functions"
   ]
  },
  {
   "cell_type": "code",
   "execution_count": 4,
   "metadata": {
    "collapsed": true
   },
   "outputs": [],
   "source": [
    "def to_img(x):\n",
    "    x = x.data.numpy()\n",
    "    x = 0.5 * (x + 1)\n",
    "    x = np.clip(x, 0, 1)\n",
    "    x = x.reshape([-1, 28, 28])\n",
    "    return x\n",
    "\n",
    "def plot_reconstructions(model, save=True, name=None):\n",
    "    # encode then decode\n",
    "    data, _ = next(iter(test_loader))\n",
    "    data = Variable(data.view([-1, 784]), volatile=True)\n",
    "    true_imgs = data\n",
    "    encoded_imgs = F.relu(model.encoder(data))\n",
    "    decoded_imgs = model.decoder(encoded_imgs)\n",
    "    \n",
    "    true_imgs = to_img(true_imgs)\n",
    "    decoded_imgs = to_img(decoded_imgs)\n",
    "    \n",
    "    n = 10\n",
    "    plt.figure(figsize=(20, 4))\n",
    "    for i in range(n):\n",
    "        # display original\n",
    "        ax = plt.subplot(2, n, i + 1)\n",
    "        plt.imshow(true_imgs[i])\n",
    "        plt.gray()\n",
    "        ax.get_xaxis().set_visible(False)\n",
    "        ax.get_yaxis().set_visible(False)\n",
    "\n",
    "        # display reconstruction\n",
    "        ax = plt.subplot(2, n, i + 1 + n)\n",
    "        plt.imshow(decoded_imgs[i])\n",
    "        plt.gray()\n",
    "        ax.get_xaxis().set_visible(False)\n",
    "        ax.get_yaxis().set_visible(False)\n",
    "    if save:\n",
    "        plt.savefig('./plots/' + name + '.png', format='png', dpi=300)\n",
    "    plt.show()"
   ]
  },
  {
   "cell_type": "markdown",
   "metadata": {},
   "source": [
    "## Simple Auto-Encoder\n",
    "\n",
    "We'll start with the simplest autoencoder: a single, fully-connected layer as the encoder and decoder."
   ]
  },
  {
   "cell_type": "code",
   "execution_count": null,
   "metadata": {
    "collapsed": true
   },
   "outputs": [],
   "source": [
    "class AutoEncoder(nn.Module):\n",
    "    def __init__(self, input_dim, encoding_dim):\n",
    "        super(AutoEncoder, self).__init__()\n",
    "        self.encoder = nn.Linear(input_dim, encoding_dim)\n",
    "        self.decoder = nn.Linear(encoding_dim, input_dim)\n",
    "\n",
    "    def forward(self, x):\n",
    "        encoded = F.relu(self.encoder(x))\n",
    "        decoded = F.tanh(self.decoder(encoded))\n",
    "        return decoded, encoded"
   ]
  },
  {
   "cell_type": "code",
   "execution_count": null,
   "metadata": {},
   "outputs": [],
   "source": [
    "input_dim = 784\n",
    "encoding_dim = 32\n",
    "\n",
    "model = AutoEncoder(input_dim, encoding_dim)\n",
    "optimizer = optim.Adam(model.parameters())"
   ]
  },
  {
   "cell_type": "code",
   "execution_count": null,
   "metadata": {
    "collapsed": true
   },
   "outputs": [],
   "source": [
    "def l1_penalty(var):\n",
    "    return torch.abs(var).sum()\n",
    "\n",
    "def train(epoch, l1_weight=1e-5):\n",
    "    for batch_idx, (data, _) in enumerate(train_loader):\n",
    "        data = Variable(data.view([-1, 784]))\n",
    "        optimizer.zero_grad()\n",
    "        \n",
    "        decoder_out, encoder_out = model(data)\n",
    "        mse_loss = F.mse_loss(decoder_out, data)\n",
    "        l1_reg = l1_weight * l1_penalty(encoder_out)\n",
    "        loss = mse_loss + l1_reg\n",
    "\n",
    "        # output = model(data)\n",
    "        # loss = F.mse_loss(output, data)\n",
    "        loss.backward()\n",
    "        optimizer.step()\n",
    "        if batch_idx % 50 == 0:\n",
    "            print('Train Epoch: {} [{}/{} ({:.0f}%)]\\tLoss: {:.6f}'.format(\n",
    "                epoch, batch_idx * len(data), len(train_loader.dataset),\n",
    "                100. * batch_idx / len(train_loader), loss.data[0]))"
   ]
  },
  {
   "cell_type": "code",
   "execution_count": null,
   "metadata": {
    "scrolled": true
   },
   "outputs": [],
   "source": [
    "num_epochs = 30\n",
    "\n",
    "for epoch in range(1,  num_epochs + 1):\n",
    "    train(epoch)"
   ]
  },
  {
   "cell_type": "code",
   "execution_count": null,
   "metadata": {
    "collapsed": true
   },
   "outputs": [],
   "source": [
    "plot_reconstructions(model, save=True, name='simple_l1_regularization_tanh')"
   ]
  },
  {
   "cell_type": "markdown",
   "metadata": {},
   "source": [
    "## Stacked Auto-Encoder"
   ]
  },
  {
   "cell_type": "code",
   "execution_count": null,
   "metadata": {
    "collapsed": true
   },
   "outputs": [],
   "source": [
    "class DeepAutoEncoder(nn.Module):\n",
    "    def __init__(self, input_dim, encoding_dim):\n",
    "        super(DeepAutoEncoder, self).__init__()\n",
    "        self.encoder = nn.Sequential(\n",
    "            nn.Linear(input_dim, 128),\n",
    "            nn.ReLU(True),\n",
    "            nn.Linear(128, 64),\n",
    "            nn.ReLU(True), \n",
    "            nn.Linear(64, encoding_dim), \n",
    "            nn.ReLU(True),\n",
    "        )\n",
    "        self.decoder = nn.Sequential(\n",
    "            nn.Linear(encoding_dim, 64),\n",
    "            nn.ReLU(True),\n",
    "            nn.Linear(64, 128),\n",
    "            nn.ReLU(True), \n",
    "            nn.Linear(128, input_dim),\n",
    "            nn.Tanh()\n",
    "        )\n",
    "    def forward(self, x):\n",
    "        x = self.encoder(x)\n",
    "        x = self.decoder(x)\n",
    "        return x"
   ]
  },
  {
   "cell_type": "code",
   "execution_count": null,
   "metadata": {
    "collapsed": true
   },
   "outputs": [],
   "source": [
    "input_dim = 784\n",
    "encoding_dim = 32\n",
    "\n",
    "model = DeepAutoEncoder(input_dim, encoding_dim)\n",
    "optimizer = optim.Adam(model.parameters())"
   ]
  },
  {
   "cell_type": "code",
   "execution_count": 8,
   "metadata": {
    "collapsed": true
   },
   "outputs": [],
   "source": [
    "def train(epoch):\n",
    "    for batch_idx, (data, _) in enumerate(train_loader):\n",
    "        data = Variable(data.view([-1, 784]))\n",
    "        optimizer.zero_grad()\n",
    "        output = model(data)\n",
    "        loss = F.mse_loss(output, data)\n",
    "        loss.backward()\n",
    "        optimizer.step()\n",
    "        if batch_idx % 50 == 0:\n",
    "            print('Train Epoch: {} [{}/{} ({:.0f}%)]\\tLoss: {:.6f}'.format(\n",
    "                epoch, batch_idx * len(data), len(train_loader.dataset),\n",
    "                100. * batch_idx / len(train_loader), loss.data[0]))"
   ]
  },
  {
   "cell_type": "code",
   "execution_count": null,
   "metadata": {},
   "outputs": [],
   "source": [
    "num_epochs = 30\n",
    "\n",
    "for epoch in range(1,  num_epochs + 1):\n",
    "    train(epoch)"
   ]
  },
  {
   "cell_type": "code",
   "execution_count": null,
   "metadata": {},
   "outputs": [],
   "source": [
    "plot_reconstructions(model, save=True, name='stacked_ae')"
   ]
  },
  {
   "cell_type": "markdown",
   "metadata": {},
   "source": [
    "## Convolutional Auto-Encoder"
   ]
  },
  {
   "cell_type": "code",
   "execution_count": 5,
   "metadata": {
    "collapsed": true
   },
   "outputs": [],
   "source": [
    "class ConvolutionalAutoEncoder(nn.Module):\n",
    "    def __init__(self):\n",
    "        super(ConvolutionalAutoEncoder, self).__init__()\n",
    "        self.encoder = nn.Sequential(\n",
    "            nn.Conv2d(1, 16, 3, stride=3, padding=1),\n",
    "            nn.ReLU(True),\n",
    "            nn.MaxPool2d(2, stride=2),\n",
    "            nn.Conv2d(16, 8, 3, stride=2, padding=1),\n",
    "            nn.ReLU(True),\n",
    "            nn.MaxPool2d(2, stride=1)\n",
    "        )\n",
    "        self.decoder = nn.Sequential(\n",
    "            nn.ConvTranspose2d(8, 16, 3, stride=2),\n",
    "            nn.ReLU(True),\n",
    "            nn.ConvTranspose2d(16, 8, 5, stride=3, padding=1),\n",
    "            nn.ReLU(True),\n",
    "            nn.ConvTranspose2d(8, 1, 2, stride=2, padding=1),\n",
    "            nn.Tanh()\n",
    "        )\n",
    "    def forward(self, x):\n",
    "        x = self.encoder(x)\n",
    "        x = self.decoder(x)\n",
    "        return x"
   ]
  },
  {
   "cell_type": "code",
   "execution_count": 6,
   "metadata": {
    "collapsed": true
   },
   "outputs": [],
   "source": [
    "model = ConvolutionalAutoEncoder()\n",
    "optimizer = optim.Adam(model.parameters())"
   ]
  },
  {
   "cell_type": "code",
   "execution_count": 10,
   "metadata": {
    "collapsed": true
   },
   "outputs": [],
   "source": [
    "def train(epoch):\n",
    "    for batch_idx, (data, _) in enumerate(train_loader):\n",
    "        data = Variable(data)\n",
    "        optimizer.zero_grad()\n",
    "        output = model(data)\n",
    "        loss = F.mse_loss(output, data)\n",
    "        loss.backward()\n",
    "        optimizer.step()\n",
    "        if batch_idx % 50 == 0:\n",
    "            print('Train Epoch: {} [{}/{} ({:.0f}%)]\\tLoss: {:.6f}'.format(\n",
    "                epoch, batch_idx * len(data), len(train_loader.dataset),\n",
    "                100. * batch_idx / len(train_loader), loss.data[0]))"
   ]
  },
  {
   "cell_type": "code",
   "execution_count": null,
   "metadata": {},
   "outputs": [
    {
     "name": "stdout",
     "output_type": "stream",
     "text": [
      "Train Epoch: 1 [0/60000 (0%)]\tLoss: 0.938134\n",
      "Train Epoch: 1 [6400/60000 (11%)]\tLoss: 0.504662\n",
      "Train Epoch: 1 [12800/60000 (21%)]\tLoss: 0.431593\n",
      "Train Epoch: 1 [19200/60000 (32%)]\tLoss: 0.394099\n",
      "Train Epoch: 1 [25600/60000 (43%)]\tLoss: 0.359708\n",
      "Train Epoch: 1 [32000/60000 (53%)]\tLoss: 0.324195\n",
      "Train Epoch: 1 [38400/60000 (64%)]\tLoss: 0.307741\n",
      "Train Epoch: 1 [44800/60000 (75%)]\tLoss: 0.300876\n",
      "Train Epoch: 1 [51200/60000 (85%)]\tLoss: 0.267207\n",
      "Train Epoch: 1 [57600/60000 (96%)]\tLoss: 0.261227\n",
      "Train Epoch: 2 [0/60000 (0%)]\tLoss: 0.252671\n",
      "Train Epoch: 2 [6400/60000 (11%)]\tLoss: 0.243994\n",
      "Train Epoch: 2 [12800/60000 (21%)]\tLoss: 0.245332\n",
      "Train Epoch: 2 [19200/60000 (32%)]\tLoss: 0.227458\n",
      "Train Epoch: 2 [25600/60000 (43%)]\tLoss: 0.225131\n",
      "Train Epoch: 2 [32000/60000 (53%)]\tLoss: 0.221485\n",
      "Train Epoch: 2 [38400/60000 (64%)]\tLoss: 0.204123\n",
      "Train Epoch: 2 [44800/60000 (75%)]\tLoss: 0.220426\n",
      "Train Epoch: 2 [51200/60000 (85%)]\tLoss: 0.216680\n",
      "Train Epoch: 2 [57600/60000 (96%)]\tLoss: 0.208271\n",
      "Train Epoch: 3 [0/60000 (0%)]\tLoss: 0.212335\n",
      "Train Epoch: 3 [6400/60000 (11%)]\tLoss: 0.195427\n",
      "Train Epoch: 3 [12800/60000 (21%)]\tLoss: 0.194998\n",
      "Train Epoch: 3 [19200/60000 (32%)]\tLoss: 0.206538\n",
      "Train Epoch: 3 [25600/60000 (43%)]\tLoss: 0.200077\n",
      "Train Epoch: 3 [32000/60000 (53%)]\tLoss: 0.191833\n",
      "Train Epoch: 3 [38400/60000 (64%)]\tLoss: 0.210949\n",
      "Train Epoch: 3 [44800/60000 (75%)]\tLoss: 0.197178\n",
      "Train Epoch: 3 [51200/60000 (85%)]\tLoss: 0.190973\n",
      "Train Epoch: 3 [57600/60000 (96%)]\tLoss: 0.190014\n",
      "Train Epoch: 4 [0/60000 (0%)]\tLoss: 0.202035\n",
      "Train Epoch: 4 [6400/60000 (11%)]\tLoss: 0.198440\n",
      "Train Epoch: 4 [12800/60000 (21%)]\tLoss: 0.194775\n",
      "Train Epoch: 4 [19200/60000 (32%)]\tLoss: 0.183386\n",
      "Train Epoch: 4 [25600/60000 (43%)]\tLoss: 0.187297\n",
      "Train Epoch: 4 [32000/60000 (53%)]\tLoss: 0.175514\n",
      "Train Epoch: 4 [38400/60000 (64%)]\tLoss: 0.185365\n",
      "Train Epoch: 4 [44800/60000 (75%)]\tLoss: 0.190013\n",
      "Train Epoch: 4 [51200/60000 (85%)]\tLoss: 0.188254\n",
      "Train Epoch: 4 [57600/60000 (96%)]\tLoss: 0.181051\n",
      "Train Epoch: 5 [0/60000 (0%)]\tLoss: 0.177540\n",
      "Train Epoch: 5 [6400/60000 (11%)]\tLoss: 0.175378\n",
      "Train Epoch: 5 [12800/60000 (21%)]\tLoss: 0.181038\n",
      "Train Epoch: 5 [19200/60000 (32%)]\tLoss: 0.175784\n",
      "Train Epoch: 5 [25600/60000 (43%)]\tLoss: 0.182052\n",
      "Train Epoch: 5 [32000/60000 (53%)]\tLoss: 0.175758\n",
      "Train Epoch: 5 [38400/60000 (64%)]\tLoss: 0.161737\n",
      "Train Epoch: 5 [44800/60000 (75%)]\tLoss: 0.173583\n",
      "Train Epoch: 5 [51200/60000 (85%)]\tLoss: 0.172355\n",
      "Train Epoch: 5 [57600/60000 (96%)]\tLoss: 0.175002\n",
      "Train Epoch: 6 [0/60000 (0%)]\tLoss: 0.168205\n",
      "Train Epoch: 6 [6400/60000 (11%)]\tLoss: 0.163493\n",
      "Train Epoch: 6 [12800/60000 (21%)]\tLoss: 0.170937\n",
      "Train Epoch: 6 [19200/60000 (32%)]\tLoss: 0.162660\n",
      "Train Epoch: 6 [25600/60000 (43%)]\tLoss: 0.160868\n",
      "Train Epoch: 6 [32000/60000 (53%)]\tLoss: 0.169812\n",
      "Train Epoch: 6 [38400/60000 (64%)]\tLoss: 0.167870\n",
      "Train Epoch: 6 [44800/60000 (75%)]\tLoss: 0.168024\n",
      "Train Epoch: 6 [51200/60000 (85%)]\tLoss: 0.163999\n",
      "Train Epoch: 6 [57600/60000 (96%)]\tLoss: 0.172394\n",
      "Train Epoch: 7 [0/60000 (0%)]\tLoss: 0.159676\n",
      "Train Epoch: 7 [6400/60000 (11%)]\tLoss: 0.169852\n",
      "Train Epoch: 7 [12800/60000 (21%)]\tLoss: 0.164604\n",
      "Train Epoch: 7 [19200/60000 (32%)]\tLoss: 0.158707\n",
      "Train Epoch: 7 [25600/60000 (43%)]\tLoss: 0.165972\n",
      "Train Epoch: 7 [32000/60000 (53%)]\tLoss: 0.160680\n",
      "Train Epoch: 7 [38400/60000 (64%)]\tLoss: 0.165665\n",
      "Train Epoch: 7 [44800/60000 (75%)]\tLoss: 0.157329\n",
      "Train Epoch: 7 [51200/60000 (85%)]\tLoss: 0.152238\n",
      "Train Epoch: 7 [57600/60000 (96%)]\tLoss: 0.157127\n",
      "Train Epoch: 8 [0/60000 (0%)]\tLoss: 0.164999\n",
      "Train Epoch: 8 [6400/60000 (11%)]\tLoss: 0.165224\n",
      "Train Epoch: 8 [12800/60000 (21%)]\tLoss: 0.164326\n",
      "Train Epoch: 8 [19200/60000 (32%)]\tLoss: 0.166665\n",
      "Train Epoch: 8 [25600/60000 (43%)]\tLoss: 0.160677\n",
      "Train Epoch: 8 [32000/60000 (53%)]\tLoss: 0.155634\n",
      "Train Epoch: 8 [38400/60000 (64%)]\tLoss: 0.157538\n",
      "Train Epoch: 8 [44800/60000 (75%)]\tLoss: 0.158938\n",
      "Train Epoch: 8 [51200/60000 (85%)]\tLoss: 0.157446\n",
      "Train Epoch: 8 [57600/60000 (96%)]\tLoss: 0.151695\n",
      "Train Epoch: 9 [0/60000 (0%)]\tLoss: 0.149132\n",
      "Train Epoch: 9 [6400/60000 (11%)]\tLoss: 0.155167\n",
      "Train Epoch: 9 [12800/60000 (21%)]\tLoss: 0.154529\n",
      "Train Epoch: 9 [19200/60000 (32%)]\tLoss: 0.151088\n",
      "Train Epoch: 9 [25600/60000 (43%)]\tLoss: 0.156806\n",
      "Train Epoch: 9 [32000/60000 (53%)]\tLoss: 0.151610\n",
      "Train Epoch: 9 [38400/60000 (64%)]\tLoss: 0.148271\n",
      "Train Epoch: 9 [44800/60000 (75%)]\tLoss: 0.152859\n",
      "Train Epoch: 9 [51200/60000 (85%)]\tLoss: 0.143579\n",
      "Train Epoch: 9 [57600/60000 (96%)]\tLoss: 0.163496\n",
      "Train Epoch: 10 [0/60000 (0%)]\tLoss: 0.152573\n",
      "Train Epoch: 10 [6400/60000 (11%)]\tLoss: 0.156127\n",
      "Train Epoch: 10 [12800/60000 (21%)]\tLoss: 0.152150\n",
      "Train Epoch: 10 [19200/60000 (32%)]\tLoss: 0.145253\n",
      "Train Epoch: 10 [25600/60000 (43%)]\tLoss: 0.140980\n",
      "Train Epoch: 10 [32000/60000 (53%)]\tLoss: 0.153504\n",
      "Train Epoch: 10 [38400/60000 (64%)]\tLoss: 0.147783\n",
      "Train Epoch: 10 [44800/60000 (75%)]\tLoss: 0.152036\n",
      "Train Epoch: 10 [51200/60000 (85%)]\tLoss: 0.148210\n",
      "Train Epoch: 10 [57600/60000 (96%)]\tLoss: 0.141839\n",
      "Train Epoch: 11 [0/60000 (0%)]\tLoss: 0.151073\n",
      "Train Epoch: 11 [6400/60000 (11%)]\tLoss: 0.153063\n",
      "Train Epoch: 11 [12800/60000 (21%)]\tLoss: 0.151900\n",
      "Train Epoch: 11 [19200/60000 (32%)]\tLoss: 0.153196\n",
      "Train Epoch: 11 [25600/60000 (43%)]\tLoss: 0.143284\n"
     ]
    }
   ],
   "source": [
    "num_epochs = 30\n",
    "\n",
    "for epoch in range(1,  num_epochs + 1):\n",
    "    train(epoch)"
   ]
  },
  {
   "cell_type": "code",
   "execution_count": null,
   "metadata": {
    "collapsed": true
   },
   "outputs": [],
   "source": [
    "plot_reconstructions(model, save=True, name='conv_ae_tanh')"
   ]
  }
 ],
 "metadata": {
  "kernelspec": {
   "display_name": "Python 3",
   "language": "python",
   "name": "python3"
  },
  "language_info": {
   "codemirror_mode": {
    "name": "ipython",
    "version": 3
   },
   "file_extension": ".py",
   "mimetype": "text/x-python",
   "name": "python",
   "nbconvert_exporter": "python",
   "pygments_lexer": "ipython3",
   "version": "3.6.1"
  }
 },
 "nbformat": 4,
 "nbformat_minor": 2
}
