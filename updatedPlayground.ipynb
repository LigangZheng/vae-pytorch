{
 "cells": [
  {
   "cell_type": "code",
   "execution_count": 1,
   "metadata": {
    "collapsed": true
   },
   "outputs": [],
   "source": [
    "import numpy as np\n",
    "import matplotlib.pyplot as plt\n",
    "\n",
    "import torch\n",
    "import torch.nn as nn\n",
    "import torch.nn.functional as F\n",
    "import torch.optim as optim\n",
    "from torchvision import datasets, transforms\n",
    "from torch.autograd import Variable\n",
    "\n",
    "plot_dir = '/Users/kevin/Desktop/DRAW/plots/'\n",
    "data_dir = '/Users/kevin/Desktop/DRAW/data/'\n",
    "\n",
    "GPU = True"
   ]
  },
  {
   "cell_type": "code",
   "execution_count": 2,
   "metadata": {
    "collapsed": true
   },
   "outputs": [],
   "source": [
    "if GPU:\n",
    "    torch.backends.cudnn.benchmark = True\n",
    "    torch.cuda.manual_seed(423212)\n",
    "else:\n",
    "    torch.manual_seed(423212)"
   ]
  },
  {
   "cell_type": "markdown",
   "metadata": {},
   "source": [
    "## Simple Auto-Encoder\n",
    "\n",
    "We'll start with the simplest autoencoder: a single, fully-connected layer as the encoder and decoder."
   ]
  },
  {
   "cell_type": "code",
   "execution_count": 3,
   "metadata": {
    "collapsed": true
   },
   "outputs": [],
   "source": [
    "class AutoEncoder(nn.Module):\n",
    "    def __init__(self, input_dim, encoding_dim):\n",
    "        super(AutoEncoder, self).__init__()\n",
    "        self.encoder = nn.Linear(input_dim, encoding_dim)\n",
    "        self.decoder = nn.Linear(encoding_dim, input_dim)\n",
    "\n",
    "    def forward(self, x):\n",
    "        encoded = F.relu(self.encoder(x))\n",
    "        decoded = self.decoder(encoded)\n",
    "        return decoded"
   ]
  },
  {
   "cell_type": "code",
   "execution_count": 4,
   "metadata": {
    "collapsed": true
   },
   "outputs": [],
   "source": [
    "kwargs = {'num_workers': 1, 'pin_memory': True} if GPU else {}\n",
    "\n",
    "train_loader = torch.utils.data.DataLoader(\n",
    "    datasets.MNIST('./data', train=True, download=True,\n",
    "                   transform=transforms.Compose([\n",
    "                       transforms.ToTensor(),\n",
    "                       transforms.Normalize((0.1307,), (0.3081,))\n",
    "                   ])),\n",
    "    batch_size=128, shuffle=True, **kwargs)\n",
    "\n",
    "test_loader = torch.utils.data.DataLoader(\n",
    "    datasets.MNIST('./data', train=False, download=True,\n",
    "                   transform=transforms.Compose([\n",
    "                       transforms.ToTensor(),\n",
    "                       transforms.Normalize((0.1307,), (0.3081,))\n",
    "                   ])),\n",
    "                    batch_size=10, shuffle=False, **kwargs)"
   ]
  },
  {
   "cell_type": "code",
   "execution_count": null,
   "metadata": {
    "collapsed": true
   },
   "outputs": [],
   "source": [
    "input_dim = 784\n",
    "encoding_dim = 32\n",
    "\n",
    "model = AutoEncoder(input_dim, encoding_dim)\n",
    "if GPU:\n",
    "    model = model.cuda()\n",
    "    \n",
    "optimizer = optim.Adam(model.parameters())"
   ]
  },
  {
   "cell_type": "code",
   "execution_count": 8,
   "metadata": {
    "collapsed": true
   },
   "outputs": [],
   "source": [
    "def train(epoch, mse=True):\n",
    "    for batch_idx, (data, _) in enumerate(train_loader):\n",
    "        if GPU:\n",
    "            data = data.cuda()\n",
    "        data = Variable(data.view([-1, 784]))\n",
    "        optimizer.zero_grad()\n",
    "        output = model(data)\n",
    "        if mse:\n",
    "            loss = F.mse_loss(output, data)\n",
    "        else:\n",
    "            loss = F.binary_cross_entropy_with_logits(output, data)\n",
    "        loss.backward()\n",
    "        optimizer.step()\n",
    "        if batch_idx % 50 == 0:\n",
    "            print('Train Epoch: {} [{}/{} ({:.0f}%)]\\tLoss: {:.6f}'.format(\n",
    "                epoch, batch_idx * len(data), len(train_loader.dataset),\n",
    "                100. * batch_idx / len(train_loader), loss.data[0]))"
   ]
  },
  {
   "cell_type": "code",
   "execution_count": null,
   "metadata": {
    "collapsed": true,
    "scrolled": true
   },
   "outputs": [],
   "source": [
    "num_epochs = 50\n",
    "mse = True\n",
    "\n",
    "for epoch in range(1,  num_epochs + 1):\n",
    "    train(epoch, mse)"
   ]
  },
  {
   "cell_type": "code",
   "execution_count": null,
   "metadata": {
    "collapsed": true
   },
   "outputs": [],
   "source": [
    "# encode and decode the test set\n",
    "data, _ = next(iter(test_loader))\n",
    "if GPU:\n",
    "    data = data.cuda()\n",
    "data = Variable(data.view([-1, 784]), volatile=True)\n",
    "true_imgs = data\n",
    "encoded_imgs = F.relu(model.encoder(data))\n",
    "decoded_imgs = model.decoder(encoded_imgs)"
   ]
  },
  {
   "cell_type": "code",
   "execution_count": null,
   "metadata": {
    "collapsed": true
   },
   "outputs": [],
   "source": [
    "def to_img(x):\n",
    "    if GPU:\n",
    "        x = x.cpu()\n",
    "    x = x.data.numpy()\n",
    "    x = x.reshape([-1, 28, 28])\n",
    "    return x\n",
    "\n",
    "true_imgs = to_img(true_imgs)\n",
    "decoded_imgs = to_img(decoded_imgs)"
   ]
  },
  {
   "cell_type": "code",
   "execution_count": null,
   "metadata": {
    "collapsed": true
   },
   "outputs": [],
   "source": [
    "n = 10\n",
    "\n",
    "plt.figure(figsize=(20, 4))\n",
    "for i in range(n):\n",
    "    # display original\n",
    "    ax = plt.subplot(2, n, i + 1)\n",
    "    plt.imshow(true_imgs[i])\n",
    "    plt.gray()\n",
    "    ax.get_xaxis().set_visible(False)\n",
    "    ax.get_yaxis().set_visible(False)\n",
    "\n",
    "    # display reconstruction\n",
    "    ax = plt.subplot(2, n, i + 1 + n)\n",
    "    plt.imshow(decoded_imgs[i])\n",
    "    plt.gray()\n",
    "    ax.get_xaxis().set_visible(False)\n",
    "    ax.get_yaxis().set_visible(False)\n",
    "plt.show()"
   ]
  },
  {
   "cell_type": "markdown",
   "metadata": {},
   "source": [
    "## Deep Autoencoder\n",
    "\n",
    "Let's start stacking up layers like pancakes :)"
   ]
  },
  {
   "cell_type": "code",
   "execution_count": 5,
   "metadata": {
    "collapsed": true
   },
   "outputs": [],
   "source": [
    "class DeepAutoEncoder(nn.Module):\n",
    "    def __init__(self, input_dim, encoding_dim):\n",
    "        super(DeepAutoEncoder, self).__init__()\n",
    "        self.encoder = nn.Sequential(\n",
    "            nn.Linear(input_dim, 128),\n",
    "            nn.ReLU(True),\n",
    "            nn.Linear(128, 64),\n",
    "            nn.ReLU(True), \n",
    "            nn.Linear(64, encoding_dim), \n",
    "            nn.ReLU(True),\n",
    "        )\n",
    "        self.decoder = nn.Sequential(\n",
    "            nn.Linear(encoding_dim, 64),\n",
    "            nn.ReLU(True),\n",
    "            nn.Linear(64, 128),\n",
    "            nn.ReLU(True), \n",
    "            nn.Linear(128, input_dim),\n",
    "            nn.Tanh()\n",
    "        )\n",
    "    def forward(self, x):\n",
    "        x = self.encoder(x)\n",
    "        x = self.decoder(x)\n",
    "        return x"
   ]
  },
  {
   "cell_type": "code",
   "execution_count": 6,
   "metadata": {
    "collapsed": true
   },
   "outputs": [],
   "source": [
    "input_dim = 784\n",
    "encoding_dim = 32\n",
    "\n",
    "model = DeepAutoEncoder(input_dim, encoding_dim)\n",
    "if GPU:\n",
    "    model = model.cuda()\n",
    "\n",
    "optimizer = optim.Adam(model.parameters())"
   ]
  },
  {
   "cell_type": "code",
   "execution_count": 9,
   "metadata": {},
   "outputs": [
    {
     "name": "stdout",
     "output_type": "stream",
     "text": [
      "Train Epoch: 1 [0/60000 (0%)]\tLoss: 0.988188\n",
      "Train Epoch: 1 [6400/60000 (11%)]\tLoss: 0.697492\n",
      "Train Epoch: 1 [12800/60000 (21%)]\tLoss: 0.590107\n",
      "Train Epoch: 1 [19200/60000 (32%)]\tLoss: 0.545805\n",
      "Train Epoch: 1 [25600/60000 (43%)]\tLoss: 0.521984\n",
      "Train Epoch: 1 [32000/60000 (53%)]\tLoss: 0.535494\n",
      "Train Epoch: 1 [38400/60000 (64%)]\tLoss: 0.498544\n",
      "Train Epoch: 1 [44800/60000 (75%)]\tLoss: 0.496674\n",
      "Train Epoch: 1 [51200/60000 (85%)]\tLoss: 0.489177\n",
      "Train Epoch: 1 [57600/60000 (96%)]\tLoss: 0.490673\n",
      "Train Epoch: 2 [0/60000 (0%)]\tLoss: 0.484289\n",
      "Train Epoch: 2 [6400/60000 (11%)]\tLoss: 0.488798\n",
      "Train Epoch: 2 [12800/60000 (21%)]\tLoss: 0.472341\n",
      "Train Epoch: 2 [19200/60000 (32%)]\tLoss: 0.448062\n",
      "Train Epoch: 2 [25600/60000 (43%)]\tLoss: 0.461516\n",
      "Train Epoch: 2 [32000/60000 (53%)]\tLoss: 0.460681\n",
      "Train Epoch: 2 [38400/60000 (64%)]\tLoss: 0.456306\n",
      "Train Epoch: 2 [44800/60000 (75%)]\tLoss: 0.460057\n",
      "Train Epoch: 2 [51200/60000 (85%)]\tLoss: 0.453341\n",
      "Train Epoch: 2 [57600/60000 (96%)]\tLoss: 0.440613\n",
      "Train Epoch: 3 [0/60000 (0%)]\tLoss: 0.445167\n",
      "Train Epoch: 3 [6400/60000 (11%)]\tLoss: 0.463521\n",
      "Train Epoch: 3 [12800/60000 (21%)]\tLoss: 0.448706\n",
      "Train Epoch: 3 [19200/60000 (32%)]\tLoss: 0.446581\n",
      "Train Epoch: 3 [25600/60000 (43%)]\tLoss: 0.439420\n",
      "Train Epoch: 3 [32000/60000 (53%)]\tLoss: 0.438423\n",
      "Train Epoch: 3 [38400/60000 (64%)]\tLoss: 0.464337\n",
      "Train Epoch: 3 [44800/60000 (75%)]\tLoss: 0.461447\n",
      "Train Epoch: 3 [51200/60000 (85%)]\tLoss: 0.432774\n",
      "Train Epoch: 3 [57600/60000 (96%)]\tLoss: 0.453675\n",
      "Train Epoch: 4 [0/60000 (0%)]\tLoss: 0.423101\n",
      "Train Epoch: 4 [6400/60000 (11%)]\tLoss: 0.439201\n",
      "Train Epoch: 4 [12800/60000 (21%)]\tLoss: 0.411529\n",
      "Train Epoch: 4 [19200/60000 (32%)]\tLoss: 0.452009\n",
      "Train Epoch: 4 [25600/60000 (43%)]\tLoss: 0.423476\n",
      "Train Epoch: 4 [32000/60000 (53%)]\tLoss: 0.450695\n",
      "Train Epoch: 4 [38400/60000 (64%)]\tLoss: 0.427300\n",
      "Train Epoch: 4 [44800/60000 (75%)]\tLoss: 0.440958\n",
      "Train Epoch: 4 [51200/60000 (85%)]\tLoss: 0.426437\n",
      "Train Epoch: 4 [57600/60000 (96%)]\tLoss: 0.437967\n",
      "Train Epoch: 5 [0/60000 (0%)]\tLoss: 0.421734\n",
      "Train Epoch: 5 [6400/60000 (11%)]\tLoss: 0.427522\n",
      "Train Epoch: 5 [12800/60000 (21%)]\tLoss: 0.418319\n",
      "Train Epoch: 5 [19200/60000 (32%)]\tLoss: 0.420796\n",
      "Train Epoch: 5 [25600/60000 (43%)]\tLoss: 0.431496\n",
      "Train Epoch: 5 [32000/60000 (53%)]\tLoss: 0.424764\n",
      "Train Epoch: 5 [38400/60000 (64%)]\tLoss: 0.437591\n",
      "Train Epoch: 5 [44800/60000 (75%)]\tLoss: 0.423446\n",
      "Train Epoch: 5 [51200/60000 (85%)]\tLoss: 0.460343\n",
      "Train Epoch: 5 [57600/60000 (96%)]\tLoss: 0.436784\n",
      "Train Epoch: 6 [0/60000 (0%)]\tLoss: 0.421199\n",
      "Train Epoch: 6 [6400/60000 (11%)]\tLoss: 0.443493\n",
      "Train Epoch: 6 [12800/60000 (21%)]\tLoss: 0.416470\n",
      "Train Epoch: 6 [19200/60000 (32%)]\tLoss: 0.418385\n",
      "Train Epoch: 6 [25600/60000 (43%)]\tLoss: 0.403121\n",
      "Train Epoch: 6 [32000/60000 (53%)]\tLoss: 0.420941\n",
      "Train Epoch: 6 [38400/60000 (64%)]\tLoss: 0.429142\n",
      "Train Epoch: 6 [44800/60000 (75%)]\tLoss: 0.404827\n",
      "Train Epoch: 6 [51200/60000 (85%)]\tLoss: 0.425199\n",
      "Train Epoch: 6 [57600/60000 (96%)]\tLoss: 0.418784\n",
      "Train Epoch: 7 [0/60000 (0%)]\tLoss: 0.433035\n",
      "Train Epoch: 7 [6400/60000 (11%)]\tLoss: 0.419916\n",
      "Train Epoch: 7 [12800/60000 (21%)]\tLoss: 0.432764\n",
      "Train Epoch: 7 [19200/60000 (32%)]\tLoss: 0.424855\n",
      "Train Epoch: 7 [25600/60000 (43%)]\tLoss: 0.408513\n",
      "Train Epoch: 7 [32000/60000 (53%)]\tLoss: 0.425448\n",
      "Train Epoch: 7 [38400/60000 (64%)]\tLoss: 0.418703\n",
      "Train Epoch: 7 [44800/60000 (75%)]\tLoss: 0.431646\n",
      "Train Epoch: 7 [51200/60000 (85%)]\tLoss: 0.412397\n",
      "Train Epoch: 7 [57600/60000 (96%)]\tLoss: 0.407619\n",
      "Train Epoch: 8 [0/60000 (0%)]\tLoss: 0.424862\n",
      "Train Epoch: 8 [6400/60000 (11%)]\tLoss: 0.422910\n",
      "Train Epoch: 8 [12800/60000 (21%)]\tLoss: 0.417862\n",
      "Train Epoch: 8 [19200/60000 (32%)]\tLoss: 0.437303\n",
      "Train Epoch: 8 [25600/60000 (43%)]\tLoss: 0.403651\n",
      "Train Epoch: 8 [32000/60000 (53%)]\tLoss: 0.430950\n",
      "Train Epoch: 8 [38400/60000 (64%)]\tLoss: 0.399677\n",
      "Train Epoch: 8 [44800/60000 (75%)]\tLoss: 0.411377\n",
      "Train Epoch: 8 [51200/60000 (85%)]\tLoss: 0.426707\n",
      "Train Epoch: 8 [57600/60000 (96%)]\tLoss: 0.395899\n",
      "Train Epoch: 9 [0/60000 (0%)]\tLoss: 0.411570\n",
      "Train Epoch: 9 [6400/60000 (11%)]\tLoss: 0.407046\n",
      "Train Epoch: 9 [12800/60000 (21%)]\tLoss: 0.395780\n",
      "Train Epoch: 9 [19200/60000 (32%)]\tLoss: 0.433470\n",
      "Train Epoch: 9 [25600/60000 (43%)]\tLoss: 0.395369\n",
      "Train Epoch: 9 [32000/60000 (53%)]\tLoss: 0.417056\n",
      "Train Epoch: 9 [38400/60000 (64%)]\tLoss: 0.425641\n",
      "Train Epoch: 9 [44800/60000 (75%)]\tLoss: 0.423788\n",
      "Train Epoch: 9 [51200/60000 (85%)]\tLoss: 0.428562\n",
      "Train Epoch: 9 [57600/60000 (96%)]\tLoss: 0.428908\n",
      "Train Epoch: 10 [0/60000 (0%)]\tLoss: 0.425315\n",
      "Train Epoch: 10 [6400/60000 (11%)]\tLoss: 0.403193\n",
      "Train Epoch: 10 [12800/60000 (21%)]\tLoss: 0.408439\n",
      "Train Epoch: 10 [19200/60000 (32%)]\tLoss: 0.400393\n",
      "Train Epoch: 10 [25600/60000 (43%)]\tLoss: 0.427996\n",
      "Train Epoch: 10 [32000/60000 (53%)]\tLoss: 0.397845\n",
      "Train Epoch: 10 [38400/60000 (64%)]\tLoss: 0.420382\n",
      "Train Epoch: 10 [44800/60000 (75%)]\tLoss: 0.419735\n",
      "Train Epoch: 10 [51200/60000 (85%)]\tLoss: 0.398704\n",
      "Train Epoch: 10 [57600/60000 (96%)]\tLoss: 0.406955\n",
      "Train Epoch: 11 [0/60000 (0%)]\tLoss: 0.411038\n",
      "Train Epoch: 11 [6400/60000 (11%)]\tLoss: 0.409950\n",
      "Train Epoch: 11 [12800/60000 (21%)]\tLoss: 0.411107\n",
      "Train Epoch: 11 [19200/60000 (32%)]\tLoss: 0.391689\n",
      "Train Epoch: 11 [25600/60000 (43%)]\tLoss: 0.402582\n",
      "Train Epoch: 11 [32000/60000 (53%)]\tLoss: 0.418299\n",
      "Train Epoch: 11 [38400/60000 (64%)]\tLoss: 0.400899\n",
      "Train Epoch: 11 [44800/60000 (75%)]\tLoss: 0.421433\n",
      "Train Epoch: 11 [51200/60000 (85%)]\tLoss: 0.394906\n",
      "Train Epoch: 11 [57600/60000 (96%)]\tLoss: 0.418485\n",
      "Train Epoch: 12 [0/60000 (0%)]\tLoss: 0.399607\n",
      "Train Epoch: 12 [6400/60000 (11%)]\tLoss: 0.393742\n",
      "Train Epoch: 12 [12800/60000 (21%)]\tLoss: 0.391624\n",
      "Train Epoch: 12 [19200/60000 (32%)]\tLoss: 0.391066\n",
      "Train Epoch: 12 [25600/60000 (43%)]\tLoss: 0.409939\n",
      "Train Epoch: 12 [32000/60000 (53%)]\tLoss: 0.388820\n",
      "Train Epoch: 12 [38400/60000 (64%)]\tLoss: 0.400570\n",
      "Train Epoch: 12 [44800/60000 (75%)]\tLoss: 0.409300\n",
      "Train Epoch: 12 [51200/60000 (85%)]\tLoss: 0.402605\n",
      "Train Epoch: 12 [57600/60000 (96%)]\tLoss: 0.398612\n"
     ]
    },
    {
     "name": "stderr",
     "output_type": "stream",
     "text": [
      "Process Process-13:\n",
      "  File \"/usr/lib/python3.5/multiprocessing/process.py\", line 249, in _bootstrap\n",
      "    self.run()\n",
      "Traceback (most recent call last):\n",
      "  File \"/usr/lib/python3.5/multiprocessing/process.py\", line 93, in run\n",
      "    self._target(*self._args, **self._kwargs)\n",
      "  File \"/home/kev/envs/deepL/lib/python3.5/site-packages/torch/utils/data/dataloader.py\", line 41, in _worker_loop\n",
      "    samples = collate_fn([dataset[i] for i in batch_indices])\n"
     ]
    },
    {
     "name": "stdout",
     "output_type": "stream",
     "text": [
      "Train Epoch: 13 [0/60000 (0%)]\tLoss: 0.397865\n"
     ]
    },
    {
     "name": "stderr",
     "output_type": "stream",
     "text": [
      "Exception in thread Thread-16:\n",
      "Traceback (most recent call last):\n",
      "  File \"/usr/lib/python3.5/threading.py\", line 914, in _bootstrap_inner\n",
      "    self.run()\n",
      "  File \"/usr/lib/python3.5/threading.py\", line 862, in run\n",
      "    self._target(*self._args, **self._kwargs)\n",
      "  File \"/home/kev/envs/deepL/lib/python3.5/site-packages/torch/utils/data/dataloader.py\", line 51, in _pin_memory_loop\n",
      "    r = in_queue.get()\n",
      "  File \"/usr/lib/python3.5/multiprocessing/queues.py\", line 345, in get\n",
      "    return ForkingPickler.loads(res)\n",
      "  File \"/home/kev/envs/deepL/lib/python3.5/site-packages/torch/multiprocessing/reductions.py\", line 70, in rebuild_storage_fd\n",
      "    fd = df.detach()\n",
      "  File \"/usr/lib/python3.5/multiprocessing/resource_sharer.py\", line 57, in detach\n",
      "    with _resource_sharer.get_connection(self._id) as conn:\n",
      "  File \"/usr/lib/python3.5/multiprocessing/resource_sharer.py\", line 87, in get_connection\n",
      "    c = Client(address, authkey=process.current_process().authkey)\n",
      "  File \"/usr/lib/python3.5/multiprocessing/connection.py\", line 487, in Client\n",
      "    c = SocketClient(address)\n",
      "  File \"/usr/lib/python3.5/multiprocessing/connection.py\", line 614, in SocketClient\n",
      "    s.connect(address)\n",
      "FileNotFoundError: [Errno 2] No such file or directory\n",
      "\n",
      "  File \"/home/kev/envs/deepL/lib/python3.5/site-packages/torch/utils/data/dataloader.py\", line 41, in <listcomp>\n",
      "    samples = collate_fn([dataset[i] for i in batch_indices])\n"
     ]
    },
    {
     "ename": "KeyboardInterrupt",
     "evalue": "",
     "output_type": "error",
     "traceback": [
      "\u001b[0;31m---------------------------------------------------------------------------\u001b[0m",
      "\u001b[0;31mKeyboardInterrupt\u001b[0m                         Traceback (most recent call last)",
      "\u001b[0;32m<ipython-input-9-39872cd75ab8>\u001b[0m in \u001b[0;36m<module>\u001b[0;34m()\u001b[0m\n\u001b[1;32m      3\u001b[0m \u001b[0;34m\u001b[0m\u001b[0m\n\u001b[1;32m      4\u001b[0m \u001b[0;32mfor\u001b[0m \u001b[0mepoch\u001b[0m \u001b[0;32min\u001b[0m \u001b[0mrange\u001b[0m\u001b[0;34m(\u001b[0m\u001b[0;36m1\u001b[0m\u001b[0;34m,\u001b[0m  \u001b[0mnum_epochs\u001b[0m \u001b[0;34m+\u001b[0m \u001b[0;36m1\u001b[0m\u001b[0;34m)\u001b[0m\u001b[0;34m:\u001b[0m\u001b[0;34m\u001b[0m\u001b[0m\n\u001b[0;32m----> 5\u001b[0;31m     \u001b[0mtrain\u001b[0m\u001b[0;34m(\u001b[0m\u001b[0mepoch\u001b[0m\u001b[0;34m,\u001b[0m \u001b[0mmse\u001b[0m\u001b[0;34m)\u001b[0m\u001b[0;34m\u001b[0m\u001b[0m\n\u001b[0m",
      "\u001b[0;32m<ipython-input-8-2e6887419272>\u001b[0m in \u001b[0;36mtrain\u001b[0;34m(epoch, mse)\u001b[0m\n\u001b[1;32m      1\u001b[0m \u001b[0;32mdef\u001b[0m \u001b[0mtrain\u001b[0m\u001b[0;34m(\u001b[0m\u001b[0mepoch\u001b[0m\u001b[0;34m,\u001b[0m \u001b[0mmse\u001b[0m\u001b[0;34m=\u001b[0m\u001b[0;32mTrue\u001b[0m\u001b[0;34m)\u001b[0m\u001b[0;34m:\u001b[0m\u001b[0;34m\u001b[0m\u001b[0m\n\u001b[0;32m----> 2\u001b[0;31m     \u001b[0;32mfor\u001b[0m \u001b[0mbatch_idx\u001b[0m\u001b[0;34m,\u001b[0m \u001b[0;34m(\u001b[0m\u001b[0mdata\u001b[0m\u001b[0;34m,\u001b[0m \u001b[0m_\u001b[0m\u001b[0;34m)\u001b[0m \u001b[0;32min\u001b[0m \u001b[0menumerate\u001b[0m\u001b[0;34m(\u001b[0m\u001b[0mtrain_loader\u001b[0m\u001b[0;34m)\u001b[0m\u001b[0;34m:\u001b[0m\u001b[0;34m\u001b[0m\u001b[0m\n\u001b[0m\u001b[1;32m      3\u001b[0m         \u001b[0;32mif\u001b[0m \u001b[0mGPU\u001b[0m\u001b[0;34m:\u001b[0m\u001b[0;34m\u001b[0m\u001b[0m\n\u001b[1;32m      4\u001b[0m             \u001b[0mdata\u001b[0m \u001b[0;34m=\u001b[0m \u001b[0mdata\u001b[0m\u001b[0;34m.\u001b[0m\u001b[0mcuda\u001b[0m\u001b[0;34m(\u001b[0m\u001b[0;34m)\u001b[0m\u001b[0;34m\u001b[0m\u001b[0m\n\u001b[1;32m      5\u001b[0m         \u001b[0mdata\u001b[0m \u001b[0;34m=\u001b[0m \u001b[0mVariable\u001b[0m\u001b[0;34m(\u001b[0m\u001b[0mdata\u001b[0m\u001b[0;34m.\u001b[0m\u001b[0mview\u001b[0m\u001b[0;34m(\u001b[0m\u001b[0;34m[\u001b[0m\u001b[0;34m-\u001b[0m\u001b[0;36m1\u001b[0m\u001b[0;34m,\u001b[0m \u001b[0;36m784\u001b[0m\u001b[0;34m]\u001b[0m\u001b[0;34m)\u001b[0m\u001b[0;34m)\u001b[0m\u001b[0;34m\u001b[0m\u001b[0m\n",
      "\u001b[0;32m~/envs/deepL/lib/python3.5/site-packages/torch/utils/data/dataloader.py\u001b[0m in \u001b[0;36m__next__\u001b[0;34m(self)\u001b[0m\n\u001b[1;32m    194\u001b[0m         \u001b[0;32mwhile\u001b[0m \u001b[0;32mTrue\u001b[0m\u001b[0;34m:\u001b[0m\u001b[0;34m\u001b[0m\u001b[0m\n\u001b[1;32m    195\u001b[0m             \u001b[0;32massert\u001b[0m \u001b[0;34m(\u001b[0m\u001b[0;32mnot\u001b[0m \u001b[0mself\u001b[0m\u001b[0;34m.\u001b[0m\u001b[0mshutdown\u001b[0m \u001b[0;32mand\u001b[0m \u001b[0mself\u001b[0m\u001b[0;34m.\u001b[0m\u001b[0mbatches_outstanding\u001b[0m \u001b[0;34m>\u001b[0m \u001b[0;36m0\u001b[0m\u001b[0;34m)\u001b[0m\u001b[0;34m\u001b[0m\u001b[0m\n\u001b[0;32m--> 196\u001b[0;31m             \u001b[0midx\u001b[0m\u001b[0;34m,\u001b[0m \u001b[0mbatch\u001b[0m \u001b[0;34m=\u001b[0m \u001b[0mself\u001b[0m\u001b[0;34m.\u001b[0m\u001b[0mdata_queue\u001b[0m\u001b[0;34m.\u001b[0m\u001b[0mget\u001b[0m\u001b[0;34m(\u001b[0m\u001b[0;34m)\u001b[0m\u001b[0;34m\u001b[0m\u001b[0m\n\u001b[0m\u001b[1;32m    197\u001b[0m             \u001b[0mself\u001b[0m\u001b[0;34m.\u001b[0m\u001b[0mbatches_outstanding\u001b[0m \u001b[0;34m-=\u001b[0m \u001b[0;36m1\u001b[0m\u001b[0;34m\u001b[0m\u001b[0m\n\u001b[1;32m    198\u001b[0m             \u001b[0;32mif\u001b[0m \u001b[0midx\u001b[0m \u001b[0;34m!=\u001b[0m \u001b[0mself\u001b[0m\u001b[0;34m.\u001b[0m\u001b[0mrcvd_idx\u001b[0m\u001b[0;34m:\u001b[0m\u001b[0;34m\u001b[0m\u001b[0m\n",
      "\u001b[0;32m/usr/lib/python3.5/queue.py\u001b[0m in \u001b[0;36mget\u001b[0;34m(self, block, timeout)\u001b[0m\n\u001b[1;32m    162\u001b[0m             \u001b[0;32melif\u001b[0m \u001b[0mtimeout\u001b[0m \u001b[0;32mis\u001b[0m \u001b[0;32mNone\u001b[0m\u001b[0;34m:\u001b[0m\u001b[0;34m\u001b[0m\u001b[0m\n\u001b[1;32m    163\u001b[0m                 \u001b[0;32mwhile\u001b[0m \u001b[0;32mnot\u001b[0m \u001b[0mself\u001b[0m\u001b[0;34m.\u001b[0m\u001b[0m_qsize\u001b[0m\u001b[0;34m(\u001b[0m\u001b[0;34m)\u001b[0m\u001b[0;34m:\u001b[0m\u001b[0;34m\u001b[0m\u001b[0m\n\u001b[0;32m--> 164\u001b[0;31m                     \u001b[0mself\u001b[0m\u001b[0;34m.\u001b[0m\u001b[0mnot_empty\u001b[0m\u001b[0;34m.\u001b[0m\u001b[0mwait\u001b[0m\u001b[0;34m(\u001b[0m\u001b[0;34m)\u001b[0m\u001b[0;34m\u001b[0m\u001b[0m\n\u001b[0m\u001b[1;32m    165\u001b[0m             \u001b[0;32melif\u001b[0m \u001b[0mtimeout\u001b[0m \u001b[0;34m<\u001b[0m \u001b[0;36m0\u001b[0m\u001b[0;34m:\u001b[0m\u001b[0;34m\u001b[0m\u001b[0m\n\u001b[1;32m    166\u001b[0m                 \u001b[0;32mraise\u001b[0m \u001b[0mValueError\u001b[0m\u001b[0;34m(\u001b[0m\u001b[0;34m\"'timeout' must be a non-negative number\"\u001b[0m\u001b[0;34m)\u001b[0m\u001b[0;34m\u001b[0m\u001b[0m\n",
      "\u001b[0;32m/usr/lib/python3.5/threading.py\u001b[0m in \u001b[0;36mwait\u001b[0;34m(self, timeout)\u001b[0m\n\u001b[1;32m    291\u001b[0m         \u001b[0;32mtry\u001b[0m\u001b[0;34m:\u001b[0m    \u001b[0;31m# restore state no matter what (e.g., KeyboardInterrupt)\u001b[0m\u001b[0;34m\u001b[0m\u001b[0m\n\u001b[1;32m    292\u001b[0m             \u001b[0;32mif\u001b[0m \u001b[0mtimeout\u001b[0m \u001b[0;32mis\u001b[0m \u001b[0;32mNone\u001b[0m\u001b[0;34m:\u001b[0m\u001b[0;34m\u001b[0m\u001b[0m\n\u001b[0;32m--> 293\u001b[0;31m                 \u001b[0mwaiter\u001b[0m\u001b[0;34m.\u001b[0m\u001b[0macquire\u001b[0m\u001b[0;34m(\u001b[0m\u001b[0;34m)\u001b[0m\u001b[0;34m\u001b[0m\u001b[0m\n\u001b[0m\u001b[1;32m    294\u001b[0m                 \u001b[0mgotit\u001b[0m \u001b[0;34m=\u001b[0m \u001b[0;32mTrue\u001b[0m\u001b[0;34m\u001b[0m\u001b[0m\n\u001b[1;32m    295\u001b[0m             \u001b[0;32melse\u001b[0m\u001b[0;34m:\u001b[0m\u001b[0;34m\u001b[0m\u001b[0m\n",
      "\u001b[0;31mKeyboardInterrupt\u001b[0m: "
     ]
    },
    {
     "name": "stderr",
     "output_type": "stream",
     "text": [
      "  File \"/home/kev/envs/deepL/lib/python3.5/site-packages/torchvision/datasets/mnist.py\", line 72, in __getitem__\n",
      "    img = Image.fromarray(img.numpy(), mode='L')\n",
      "  File \"/home/kev/envs/deepL/lib/python3.5/site-packages/PIL/Image.py\", line 2438, in fromarray\n",
      "    return frombuffer(mode, size, obj, \"raw\", rawmode, 0, 1)\n",
      "  File \"/home/kev/envs/deepL/lib/python3.5/site-packages/PIL/Image.py\", line 2386, in frombuffer\n",
      "    core.map_buffer(data, size, decoder_name, None, 0, args)\n",
      "KeyboardInterrupt\n"
     ]
    }
   ],
   "source": [
    "num_epochs = 25\n",
    "mse = True\n",
    "\n",
    "for epoch in range(1,  num_epochs + 1):\n",
    "    train(epoch, mse)"
   ]
  },
  {
   "cell_type": "code",
   "execution_count": null,
   "metadata": {
    "collapsed": true
   },
   "outputs": [],
   "source": [
    "# encode and decode the test set\n",
    "data, _ = next(iter(test_loader))\n",
    "if GPU:\n",
    "    data = data.cuda()\n",
    "data = Variable(data.view([-1, 784]), volatile=True)\n",
    "true_imgs = data\n",
    "encoded_imgs = F.relu(model.encoder(data))\n",
    "decoded_imgs = model.decoder(encoded_imgs)"
   ]
  },
  {
   "cell_type": "code",
   "execution_count": null,
   "metadata": {
    "collapsed": true
   },
   "outputs": [],
   "source": [
    "def to_img(x):\n",
    "    if GPU:\n",
    "        x = x.cpu()\n",
    "    x = x.data.numpy()\n",
    "    x = x.reshape([-1, 28, 28])\n",
    "    return x\n",
    "\n",
    "true_imgs = to_img(true_imgs)\n",
    "decoded_imgs = to_img(decoded_imgs)"
   ]
  },
  {
   "cell_type": "code",
   "execution_count": null,
   "metadata": {
    "collapsed": true
   },
   "outputs": [],
   "source": [
    "n = 10\n",
    "\n",
    "plt.figure(figsize=(20, 4))\n",
    "for i in range(n):\n",
    "    # display original\n",
    "    ax = plt.subplot(2, n, i + 1)\n",
    "    plt.imshow(true_imgs[i])\n",
    "    plt.gray()\n",
    "    ax.get_xaxis().set_visible(False)\n",
    "    ax.get_yaxis().set_visible(False)\n",
    "\n",
    "    # display reconstruction\n",
    "    ax = plt.subplot(2, n, i + 1 + n)\n",
    "    plt.imshow(decoded_imgs[i])\n",
    "    plt.gray()\n",
    "    ax.get_xaxis().set_visible(False)\n",
    "    ax.get_yaxis().set_visible(False)\n",
    "plt.show()"
   ]
  },
  {
   "cell_type": "markdown",
   "metadata": {},
   "source": [
    "## Convolutional Autoencoder"
   ]
  },
  {
   "cell_type": "code",
   "execution_count": null,
   "metadata": {
    "collapsed": true
   },
   "outputs": [],
   "source": [
    "class ConvAutoEncoder(nn.Module):\n",
    "    def __init__(self):\n",
    "        super(ConvAutoEncoder, self).__init__()\n",
    "        self.encoder = nn.Sequential(\n",
    "            nn.Conv2d(1, 16, 3, stride=3, padding=1),  # b, 16, 10, 10\n",
    "            nn.MaxPool2d(2, stride=2),  # b, 16, 5, 5\n",
    "            nn.ReLU(True),\n",
    "            nn.Conv2d(16, 8, 3, stride=2, padding=1),  # b, 8, 3, 3\n",
    "            nn.MaxPool2d(2, stride=1),  # b, 8, 2, 2\n",
    "            nn.ReLU(True),\n",
    "        )\n",
    "        self.decoder = nn.Sequential(\n",
    "            nn.ConvTranspose2d(8, 16, 3, stride=2),  # b, 16, 5, 5\n",
    "            nn.ReLU(True),\n",
    "            nn.ConvTranspose2d(16, 8, 5, stride=3, padding=1),  # b, 8, 15, 15\n",
    "            nn.ReLU(True),\n",
    "            nn.ConvTranspose2d(8, 1, 2, stride=2, padding=1),  # b, 1, 28, 28\n",
    "        )\n",
    "        \n",
    "    def forward(self, x):\n",
    "        x = self.encoder(x)\n",
    "        x = self.decoder(x)\n",
    "        return x"
   ]
  },
  {
   "cell_type": "code",
   "execution_count": null,
   "metadata": {
    "collapsed": true
   },
   "outputs": [],
   "source": [
    "input_dim = 784\n",
    "encoding_dim = 32\n",
    "\n",
    "model = ConvAutoEncoder()\n",
    "if GPU:\n",
    "    model = model.cuda()\n",
    "\n",
    "optimizer = optim.Adam(model.parameters())"
   ]
  },
  {
   "cell_type": "code",
   "execution_count": null,
   "metadata": {
    "collapsed": true
   },
   "outputs": [],
   "source": [
    "def train(epoch, mse=True):\n",
    "    for batch_idx, (data, _) in enumerate(train_loader):\n",
    "        if GPU:\n",
    "            data = data.cuda()\n",
    "        data = Variable(data)\n",
    "        optimizer.zero_grad()\n",
    "        output = model(data)\n",
    "        if mse:\n",
    "            loss = F.mse_loss(output, data)\n",
    "        else:\n",
    "            loss = F.binary_cross_entropy_with_logits(output, data)\n",
    "        loss.backward()\n",
    "        optimizer.step()\n",
    "        if batch_idx % 50 == 0:\n",
    "            print('Train Epoch: {} [{}/{} ({:.0f}%)]\\tLoss: {:.6f}'.format(\n",
    "                epoch, batch_idx * len(data), len(train_loader.dataset),\n",
    "                100. * batch_idx / len(train_loader), loss.data[0]))"
   ]
  },
  {
   "cell_type": "code",
   "execution_count": null,
   "metadata": {
    "collapsed": true
   },
   "outputs": [],
   "source": [
    "num_epochs = 75\n",
    "mse = True\n",
    "\n",
    "for epoch in range(1,  num_epochs + 1):\n",
    "    train(epoch, mse)"
   ]
  }
 ],
 "metadata": {
  "kernelspec": {
   "display_name": "Python 3",
   "language": "python",
   "name": "python3"
  },
  "language_info": {
   "codemirror_mode": {
    "name": "ipython",
    "version": 3
   },
   "file_extension": ".py",
   "mimetype": "text/x-python",
   "name": "python",
   "nbconvert_exporter": "python",
   "pygments_lexer": "ipython3",
   "version": "3.6.1"
  }
 },
 "nbformat": 4,
 "nbformat_minor": 2
}
